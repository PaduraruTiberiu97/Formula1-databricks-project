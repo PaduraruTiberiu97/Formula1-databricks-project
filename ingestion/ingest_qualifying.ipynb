{
 "cells": [
  {
   "cell_type": "code",
   "execution_count": 0,
   "metadata": {
    "application/vnd.databricks.v1+cell": {
     "cellMetadata": {
      "byteLimit": 2048000,
      "rowLimit": 10000
     },
     "inputWidgets": {},
     "nuid": "82734ef3-cadd-454d-944a-ea2b2e593a7f",
     "showTitle": false,
     "tableResultSettingsMap": {},
     "title": ""
    }
   },
   "outputs": [],
   "source": [
    "%run \"../includes/configuration\"\n"
   ]
  },
  {
   "cell_type": "code",
   "execution_count": 0,
   "metadata": {
    "application/vnd.databricks.v1+cell": {
     "cellMetadata": {
      "byteLimit": 2048000,
      "rowLimit": 10000
     },
     "inputWidgets": {},
     "nuid": "69bd888b-b768-43fc-8921-448636653a71",
     "showTitle": false,
     "tableResultSettingsMap": {},
     "title": ""
    }
   },
   "outputs": [],
   "source": [
    "%run \"../includes/common_functions\"\n"
   ]
  },
  {
   "cell_type": "code",
   "execution_count": 0,
   "metadata": {
    "application/vnd.databricks.v1+cell": {
     "cellMetadata": {
      "byteLimit": 2048000,
      "rowLimit": 10000
     },
     "inputWidgets": {},
     "nuid": "6cf5144e-31ba-48e8-8e51-87095eb0ad6e",
     "showTitle": false,
     "tableResultSettingsMap": {},
     "title": ""
    }
   },
   "outputs": [],
   "source": [
    "from pyspark.sql.types import StructType, StructField, StringType, IntegerType, FloatType\n",
    "\n",
    "qualify_schema = StructType(fields=[StructField(\"qualifyId\", IntegerType(), False),\n",
    "                                   StructField(\"raceId\", IntegerType(), True),\n",
    "                                   StructField(\"driverId\", IntegerType(), True),\n",
    "                                   StructField(\"constructorId\", IntegerType(), True),\n",
    "                                   StructField(\"number\", IntegerType(), True),\n",
    "                                   StructField(\"position\", IntegerType(), True),\n",
    "                                   StructField(\"q1\", StringType(), True),\n",
    "                                   StructField(\"q2\", StringType(), True),\n",
    "                                   StructField(\"q3\", StringType(), True)])\n",
    "\n",
    "qualify_df = spark.read \\\n",
    ".schema(qualify_schema) \\\n",
    ".option(\"multiLine\", True) \\\n",
    ".json(f\"{raw_folder_path}/qualifying\")\n",
    "\n",
    "display(qualify_df)"
   ]
  },
  {
   "cell_type": "code",
   "execution_count": 0,
   "metadata": {
    "application/vnd.databricks.v1+cell": {
     "cellMetadata": {
      "byteLimit": 2048000,
      "rowLimit": 10000
     },
     "inputWidgets": {},
     "nuid": "c0df6223-08bd-4581-9360-7b993080ef4b",
     "showTitle": false,
     "tableResultSettingsMap": {},
     "title": ""
    }
   },
   "outputs": [],
   "source": [
    "from pyspark.sql.functions import current_timestamp\n",
    "\n",
    "qualify_refactored_df = qualify_df.withColumnRenamed(\"raceId\", \"race_id\") \\\n",
    "    .withColumnRenamed(\"driverId\", \"driver_id\") \\\n",
    "    .withColumnRenamed(\"constructorId\", \"constructor_id\")\n",
    "qualify_refactored_df = add_ingestion_date(qualify_refactored_df)\n",
    "display(qualify_refactored_df)"
   ]
  },
  {
   "cell_type": "code",
   "execution_count": 0,
   "metadata": {
    "application/vnd.databricks.v1+cell": {
     "cellMetadata": {
      "byteLimit": 2048000,
      "rowLimit": 10000
     },
     "inputWidgets": {},
     "nuid": "6b277c0c-4c7a-40b5-bb5e-38ee238d956f",
     "showTitle": false,
     "tableResultSettingsMap": {},
     "title": ""
    }
   },
   "outputs": [],
   "source": [
    "qualify_refactored_df.write.mode(\"overwrite\").format(\"parquet\").saveAsTable(\"f1_processed.qualifying\")\n",
    "display(spark.read.parquet(f\"{processed_folder_path}/qualifying\"))"
   ]
  },
  {
   "cell_type": "code",
   "execution_count": 0,
   "metadata": {
    "application/vnd.databricks.v1+cell": {
     "cellMetadata": {
      "byteLimit": 2048000,
      "rowLimit": 10000
     },
     "inputWidgets": {},
     "nuid": "93763429-e8c9-4890-914e-2831b874aa29",
     "showTitle": false,
     "tableResultSettingsMap": {},
     "title": ""
    }
   },
   "outputs": [],
   "source": [
    "%fs ls /mnt/formulaonedatalk/processed/qualifying"
   ]
  },
  {
   "cell_type": "code",
   "execution_count": 0,
   "metadata": {
    "application/vnd.databricks.v1+cell": {
     "cellMetadata": {
      "byteLimit": 2048000,
      "rowLimit": 10000
     },
     "inputWidgets": {},
     "nuid": "c98af240-d693-4d14-964e-f57a9ff8122a",
     "showTitle": false,
     "tableResultSettingsMap": {},
     "title": ""
    }
   },
   "outputs": [],
   "source": [
    "dbutils.notebook.exit(\"Success\")"
   ]
  }
 ],
 "metadata": {
  "application/vnd.databricks.v1+notebook": {
   "computePreferences": null,
   "dashboards": [],
   "environmentMetadata": {
    "base_environment": "",
    "environment_version": "3"
   },
   "inputWidgetPreferences": null,
   "language": "python",
   "notebookMetadata": {
    "mostRecentlyExecutedCommandWithImplicitDF": {
     "commandId": 8018361532798193,
     "dataframes": [
      "_sqldf"
     ]
    },
    "pythonIndentUnit": 4
   },
   "notebookName": "ingest_qualifying",
   "widgets": {}
  },
  "language_info": {
   "name": "python"
  }
 },
 "nbformat": 4,
 "nbformat_minor": 0
}
